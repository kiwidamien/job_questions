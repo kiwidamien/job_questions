{
 "cells": [
  {
   "cell_type": "code",
   "execution_count": 1,
   "metadata": {},
   "outputs": [],
   "source": [
    "import numpy as np\n",
    "import matplotlib.pyplot as plt\n",
    "\n",
    "%matplotlib inline"
   ]
  },
  {
   "cell_type": "code",
   "execution_count": 2,
   "metadata": {},
   "outputs": [],
   "source": [
    "test_cases = [\n",
    "    [[0,0,0,0,1,1,0,0],\n",
    "     [0,0,0,1,1,0,0,1],\n",
    "     [1,1,0,0,1,1,1,1],\n",
    "     [1,0,0,1,0,0,0,0],\n",
    "     [1,0,0,1,0,0,0,1]]\n",
    "]"
   ]
  },
  {
   "cell_type": "code",
   "execution_count": 3,
   "metadata": {},
   "outputs": [
    {
     "data": {
      "text/plain": [
       "<matplotlib.image.AxesImage at 0x1127c4550>"
      ]
     },
     "execution_count": 3,
     "metadata": {},
     "output_type": "execute_result"
    },
    {
     "data": {
      "image/png": "[encoded data removed]",
      "text/plain": [
       "<Figure size 432x288 with 1 Axes>"
      ]
     },
     "metadata": {
      "needs_background": "light"
     },
     "output_type": "display_data"
    }
   ],
   "source": [
    "plt.imshow(test_cases[0])"
   ]
  },
  {
   "cell_type": "code",
   "execution_count": 19,
   "metadata": {},
   "outputs": [],
   "source": [
    "def DFS(the_map, seen, row, col):\n",
    "    if row < 0 or row >= len(the_map):\n",
    "        return 0\n",
    "    if col < 0 or col >= len(the_map[0]):\n",
    "        return 0\n",
    "    if seen[row][col]:\n",
    "        return 0\n",
    "    \n",
    "    seen[row][col] = True\n",
    "    \n",
    "    if the_map[row][col] == 0:\n",
    "        return 0\n",
    "    size = 1\n",
    "    for dx, dy in [(0,1), (1, 0), (-1, 0), (0, -1)]:\n",
    "        size += DFS(the_map, seen, row + dy, col + dx)\n",
    "    return size\n",
    "\n",
    "def count_islands(the_map):\n",
    "    seen = [[False for _ in range(len(row))] for row in the_map]\n",
    "    num_islands = 0\n",
    "    for row_num, row in enumerate(the_map):\n",
    "        for col_num, element in enumerate(row):\n",
    "            s = DFS(the_map, seen, row_num, col_num)\n",
    "\n",
    "            if s > 0:\n",
    "                print(f'Island {num_islands + 1} has size {s}')\n",
    "                num_islands += 1\n",
    "    return num_islands"
   ]
  },
  {
   "cell_type": "code",
   "execution_count": 20,
   "metadata": {},
   "outputs": [
    {
     "name": "stdout",
     "output_type": "stream",
     "text": [
      "Island 1 has size 9\n",
      "Island 2 has size 4\n",
      "Island 3 has size 2\n",
      "Island 4 has size 1\n"
     ]
    },
    {
     "data": {
      "text/plain": [
       "4"
      ]
     },
     "execution_count": 20,
     "metadata": {},
     "output_type": "execute_result"
    }
   ],
   "source": [
    "count_islands(test_cases[0])"
   ]
  },
  {
   "cell_type": "code",
   "execution_count": 14,
   "metadata": {},
   "outputs": [
    {
     "data": {
      "text/plain": [
       "[[0, 0, 0, 0, 1, 1, 0, 0],\n",
       " [0, 0, 0, 1, 1, 0, 0, 1],\n",
       " [1, 1, 0, 0, 1, 1, 1, 1],\n",
       " [1, 0, 0, 1, 0, 0, 0, 0],\n",
       " [1, 0, 0, 1, 0, 0, 0, 1]]"
      ]
     },
     "execution_count": 14,
     "metadata": {},
     "output_type": "execute_result"
    }
   ],
   "source": [
    "test_cases[0]"
   ]
  },
  {
   "cell_type": "code",
   "execution_count": null,
   "metadata": {},
   "outputs": [],
   "source": []
  }
 ],
 "metadata": {
  "kernelspec": {
   "display_name": "Python 3",
   "language": "python",
   "name": "python3"
  },
  "language_info": {
   "codemirror_mode": {
    "name": "ipython",
    "version": 3
   },
   "file_extension": ".py",
   "mimetype": "text/x-python",
   "name": "python",
   "nbconvert_exporter": "python",
   "pygments_lexer": "ipython3",
   "version": "3.6.8"
  }
 },
 "nbformat": 4,
 "nbformat_minor": 2
}
