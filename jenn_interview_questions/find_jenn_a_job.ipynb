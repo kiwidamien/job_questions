{
 "cells": [
  {
   "cell_type": "markdown",
   "metadata": {},
   "source": [
    "# Interview Questions"
   ]
  },
  {
   "cell_type": "markdown",
   "metadata": {
    "heading_collapsed": true
   },
   "source": [
    "# Data science algorithms"
   ]
  },
  {
   "cell_type": "markdown",
   "metadata": {
    "heading_collapsed": true,
    "hidden": true
   },
   "source": [
    "## Logistic regression"
   ]
  },
  {
   "cell_type": "markdown",
   "metadata": {
    "hidden": true
   },
   "source": [
    "1. What is the cost function / loss function for linear regression? Ok to just do for binary classification\n",
    "2. Can Logistic regression be used for multiclass classification?\n",
    "3. (Multiclass) Where would you use multiclass (e.g. softmax)? Where would you use one-vs-rest?\n",
    "- Some answers:\n",
    "  * if the classes partition (e.g. MNIST) then multiclass is better\n",
    "  * if the classes are mixes (e.g. music genres, where a song can be mostly pop but some rock) then one-vs-rest is good.\n",
    "- Another answer from Alice:\n",
    "  * OVR: + Fewer classifications, - classes may be imbalanced (at least one class will be imbalanced)\n",
    "  * OVO (one vs one): + Less sensitive to imbalance, - more classifications (i.e. K(K-1)/2)\n",
    "\n",
    "For Damien to do:\n",
    "  - example of softmax\n",
    "  - example of OvR\n",
    "  on same set of data."
   ]
  },
  {
   "cell_type": "markdown",
   "metadata": {
    "heading_collapsed": true,
    "hidden": true
   },
   "source": [
    "## Metrics"
   ]
  },
  {
   "cell_type": "markdown",
   "metadata": {
    "hidden": true
   },
   "source": [
    "* What is R^2? What are the problems with it, and how can you account for it?\n",
    "* What is Huber loss?"
   ]
  },
  {
   "cell_type": "markdown",
   "metadata": {
    "heading_collapsed": true,
    "hidden": true
   },
   "source": [
    "## Model selection"
   ]
  },
  {
   "cell_type": "markdown",
   "metadata": {
    "hidden": true
   },
   "source": [
    "What are some models that are useful when the number of features is large in comparison to the number of rows?\n",
    "What are some models that are useful when the number of rows is large in comparison to the number of features?"
   ]
  },
  {
   "cell_type": "markdown",
   "metadata": {
    "heading_collapsed": true,
    "hidden": true
   },
   "source": [
    "## SVMs"
   ]
  },
  {
   "cell_type": "markdown",
   "metadata": {
    "hidden": true
   },
   "source": [
    "* What does the regularization parameter `C` control in an SVM?\n",
    "* What are the support vectors?\n",
    "* Explain what a kernel is, and the kernel trick"
   ]
  },
  {
   "cell_type": "markdown",
   "metadata": {
    "heading_collapsed": true,
    "hidden": true
   },
   "source": [
    "## Clustering"
   ]
  },
  {
   "cell_type": "markdown",
   "metadata": {
    "hidden": true
   },
   "source": [
    "1. Why cluster?\n",
    "2. What are some methods used for evaluating clusters? When would they be appropriate?\n",
    "3. Why do we do dimensional reduction before clustering?\n",
    "4. You do a cluster analysis, and the clusters don't seem to be particularly useful. What are some techiques you could use to try and find better clusters? (You can use a specific example, rather than talking about the problem in general)\n",
    "4. Tell me about two clustering techniques, and the differences between them."
   ]
  },
  {
   "cell_type": "markdown",
   "metadata": {
    "heading_collapsed": true,
    "hidden": true
   },
   "source": [
    "## Recommenders"
   ]
  },
  {
   "cell_type": "markdown",
   "metadata": {
    "hidden": true
   },
   "source": [
    "1. What sort of metrics can you use for recommender systems?\n",
    "2. Briefly describe how content-based recommenders work. How is this different from collaborative recommenders?\n",
    "3. What is implicit recommendation? How is it different from explicit recommenders?\n",
    "4. Explain how factorization methods work for recommenders.\n",
    "5. Is recommendation supervised or unsupervised?\n",
    "6. Describe how you would run an AB test for recommenders\n",
    "7. How could you mix a social recommender with a collaborative or content-based recommender?"
   ]
  },
  {
   "cell_type": "markdown",
   "metadata": {
    "heading_collapsed": true,
    "hidden": true
   },
   "source": [
    "## Recommenders SQL"
   ]
  },
  {
   "cell_type": "markdown",
   "metadata": {
    "hidden": true
   },
   "source": [
    "Write an SQL query that makes recommendations using the pages that your friends liked. Assume you have two tables: a two-column table of users and their friends, and a two-column table of users and the pages they liked. It should not recommend pages you already like."
   ]
  },
  {
   "cell_type": "markdown",
   "metadata": {
    "heading_collapsed": true,
    "hidden": true
   },
   "source": [
    "## Case study 1:"
   ]
  },
  {
   "cell_type": "markdown",
   "metadata": {
    "hidden": true
   },
   "source": [
    "Given a database of all previous alumni donations to your university, how would you predict which recent alumni are most likely to donate?"
   ]
  },
  {
   "cell_type": "markdown",
   "metadata": {
    "heading_collapsed": true,
    "hidden": true
   },
   "source": [
    "## Outliers"
   ]
  },
  {
   "cell_type": "markdown",
   "metadata": {
    "hidden": true
   },
   "source": [
    "What are some ways I can make a regression model more robust to outliers?"
   ]
  },
  {
   "cell_type": "markdown",
   "metadata": {
    "heading_collapsed": true,
    "hidden": true
   },
   "source": [
    "### Some possible answer (below the fold)"
   ]
  },
  {
   "cell_type": "markdown",
   "metadata": {
    "hidden": true
   },
   "source": [
    "* eliminate outliers\n",
    "* metrics (e.g. Huber loss)\n",
    "* regularization"
   ]
  },
  {
   "cell_type": "markdown",
   "metadata": {},
   "source": [
    "# Probability"
   ]
  },
  {
   "cell_type": "markdown",
   "metadata": {
    "heading_collapsed": true
   },
   "source": [
    "## Seattle rain question"
   ]
  },
  {
   "cell_type": "markdown",
   "metadata": {
    "hidden": true
   },
   "source": [
    "You have three friends in Seattle, and you are going up there for the day and want to know if you need to take your umbrella. You call each of your three friends, and they all tell you it is not raining. Your friends like to play tricks, and will lie to you about the weather 1/3 of the time (and tell the truth the other 2/3 of the time).\n",
    "\n",
    "* What is the probability it is actually raining in Seattle?\n",
    "\n",
    "* Follow-up: if one friend said it was raining, and the other two didn't, what is the probability it is actually raining in Seattle?"
   ]
  },
  {
   "cell_type": "markdown",
   "metadata": {
    "heading_collapsed": true,
    "hidden": true
   },
   "source": [
    "### Hint (below fold)"
   ]
  },
  {
   "cell_type": "markdown",
   "metadata": {
    "ExecuteTime": {
     "end_time": "2018-09-17T06:13:20.924148Z",
     "start_time": "2018-09-17T06:13:20.850575Z"
    },
    "hidden": true
   },
   "source": [
    "(Note: this one requires the prior prob raining in Seattle. Optional to give, or wait for request)\n",
    "\n",
    "You could do maximum likelihood estimate (i.e. equivalent to assuming that P(rain) ~ 0.5). This isn't too far off, as Seattle has some rain for 150 of the 365 days of the year, making P(Rain)~0.4"
   ]
  },
  {
   "cell_type": "markdown",
   "metadata": {
    "heading_collapsed": true,
    "hidden": true
   },
   "source": [
    "### Answer (below fold)"
   ]
  },
  {
   "cell_type": "markdown",
   "metadata": {
    "ExecuteTime": {
     "end_time": "2018-09-17T06:13:20.931029Z",
     "start_time": "2018-09-17T04:55:15.168Z"
    },
    "hidden": true
   },
   "source": [
    "1. Probability raining if all friends say \"it's not raining\". \n",
    "  - let F be number of friends our of 3 who say is raining\n",
    "  - let R be the event it is raining\n",
    "\n",
    "\\begin{align}\n",
    "P(!R | 0F) &= \\frac{P(0F|!R)P(!R)}{\\text{normalization}} = \\frac{P(0F | !R)P(!R)}{P(0F | R)P(R) + P(0F | !R)P(!R)}\\\\\n",
    "\\end{align}\n",
    "\n",
    "We have\n",
    "$$P(0F | R) = (1/3)^3 = 1/27, \\quad\\quad\\quad P(0F | !R) = (2/3)^3 = 8/27$$ \n",
    "\n",
    "Now we have\n",
    "$$P(!R | 0F) = \\frac{(8/27)P(!R)}{(8/27)P(!R) + (1/27)P(R)} = \\frac{8P(!R)}{8P(!R) + P(R)} = \\frac{8P(!R)}{8P(!R) + 1 - P(!R)} = \\frac{8P(!R)}{1 + 7P(!R)}$$\n",
    "\n",
    "Using P(!R) = 0.6, we get\n",
    "$$P(!R | 0F) = \\frac{8\\times 3/5}{1 + 7\\times (3/5)} = \\frac{24}{5 + 21} = \\frac{12}{13} \\approx 0.923$$\n",
    "\n",
    "2. If one friend said it was raining, and the other two didn't the only things that are \n",
    "$$P(1F | R) = (1/3)^2(2/3) = 2/27, \\quad\\quad\\quad P(1F | !R) = (1/3)(2/3)^2 = 4/27$$\n",
    "\n",
    "So we have\n",
    "$$P(!R | 1F) = \\frac{(4/27)(3/5)}{(4/27)(3/5) + (2/27)(2/5)} = \\frac{4 \\times 3}{4\\times 3 + 2\\times 2} = \\frac{12}{16} = 0.75$$"
   ]
  },
  {
   "cell_type": "markdown",
   "metadata": {
    "heading_collapsed": true
   },
   "source": [
    "## The stadium question"
   ]
  },
  {
   "cell_type": "markdown",
   "metadata": {
    "hidden": true
   },
   "source": [
    "You have 100 students in a class and some of them went to the football game over the weekend. On Monday, you asked your students how many of them went to the game. They each tossed a fair coin. If heads, they told the truth. For people who had tails, the coin is tossed again. If heads, they told the truth and if tails they lied again. At the end 60 students mentioned that they went to the game. Estimate how many actually went to the game?\n",
    "\n",
    "\n",
    "(hint: no prior given so no real solution similar to the “seattle rain” problem. Without a prior, the best you can do is maximum likelihood estimation. Also the answer is not 60)"
   ]
  },
  {
   "cell_type": "markdown",
   "metadata": {
    "heading_collapsed": true,
    "hidden": true
   },
   "source": [
    "### Answer"
   ]
  },
  {
   "cell_type": "markdown",
   "metadata": {
    "ExecuteTime": {
     "end_time": "2018-09-17T06:43:57.145966Z",
     "start_time": "2018-09-17T06:43:57.107597Z"
    },
    "hidden": true
   },
   "source": [
    "This is a little convoluted. What is the probability that they lie?\n",
    "\n",
    "```\n",
    "P(lie) = P(TT) = 0.25, P(truth) = 1 - P(lie) = 0.75\n",
    "```\n",
    "\n",
    "We are asked for `P(N | 60 respond yes)`. MLE means that instead we are finding `N` that maximizes `P(60 responded yes | N)`. \n",
    "\n",
    "The easy way is just to look at expected values. If $N$ people went to the game, the expected values are\n",
    "* `0.25N` will say they didn't go when they did (i.e. lie)\n",
    "* `0.75N` will say they went when they did (i.e. tell the truth)\n",
    "* `0.25(100 - N)` will lie and say they went when they didn't\n",
    "* `0.75(100 - N)` will tell the truth and say they didn't go to the game\n",
    "\n",
    "So the (expected) number that say they went to the game is\n",
    "```\n",
    "0.75N + 0.25(100 - N) = 60 ==> 0.5 N + 25 = 60 ==> N = 70\n",
    "```\n"
   ]
  },
  {
   "cell_type": "markdown",
   "metadata": {
    "heading_collapsed": true
   },
   "source": [
    "## Dating site"
   ]
  },
  {
   "cell_type": "markdown",
   "metadata": {
    "hidden": true
   },
   "source": [
    "On a dating site, users can select 5 out of 24 adjectives to describe themselves. A match is declared between two users if they match on at least 4 adjectives. If Alice and Bob randomly pick adjectives, what is the probability that they form a match?"
   ]
  },
  {
   "cell_type": "markdown",
   "metadata": {
    "heading_collapsed": true,
    "hidden": true
   },
   "source": [
    "### Answer (below the fold)"
   ]
  },
  {
   "cell_type": "markdown",
   "metadata": {
    "hidden": true
   },
   "source": [
    "```\n",
    "P(match exactly 4) + P(match exactly 5)\n",
    "P(match 5) = (24 C 5) . (5 C 5) / (24 C 5)^2 = 1 / (24 C 5)\n",
    "P(match 5) = (24 C 5) . (5 C 4) . (19 C 1) / (24 C 5)^2 = (5 C 4) (19 C 1) / (24 C 5)\n",
    "           = 5 * 19 / (24 C 5)\n",
    "```\n",
    "\n",
    "So solution is `(1 + 5*19)/(24 C 5) = 96 / 42504 = 4 / 1771 ~ 0.2%`\n",
    "\n",
    "Note: can ask simulation question for this problem as well."
   ]
  },
  {
   "cell_type": "markdown",
   "metadata": {
    "heading_collapsed": true
   },
   "source": [
    "## Flush (poker question)"
   ]
  },
  {
   "cell_type": "markdown",
   "metadata": {
    "hidden": true
   },
   "source": [
    "- Given a deck of cards, what is the probability of a flush (deal 5 cards, all the same suit)"
   ]
  },
  {
   "cell_type": "markdown",
   "metadata": {
    "hidden": true
   },
   "source": [
    "### Answer (below the fold)"
   ]
  },
  {
   "cell_type": "markdown",
   "metadata": {
    "hidden": true
   },
   "source": [
    "\n",
    "Ways of picking 5 cards all the same suit: (13 C 5) x 4 = 4 . 13!/(5! 8!)\n",
    "\n",
    "Ways of picking 5 cards from all the cards: (52 C 5) = 52!/(5! 47!)\n",
    "\n",
    "Answer:\n",
    "4 x (13!/52!) x (47!/8!) = 4 x (13x12x11x10x9)/(52x51x50x49x48) ~ 0.198% ~ 2E-3\n",
    "\n",
    "- Suppose we wanted to simulate the above answer (e.g. to check for missing factors of 4).\n",
    "  - Write a function that will simulate drawing five cards, and checking if it is a flush\n",
    "  - How many simulations should you run to estimate the probability? Justify.\n",
    "\n",
    "Assuming p ~ 0.2% and we want to justify the factor of 4, we distinguish it from 0.5E-3. Lets say\n",
    "```\n",
    "3 x std_err < 2E-3 - 0.5E-3 = 1.5E-3\n",
    "std_err < 0.5E-3\n",
    "std_err = sqrt(p(1-p)/N) => p(1-p) < (0.5E-3)^2 N\n",
    "        => N > (p(1-p))/(0.5E-3)^2\n",
    "```\n",
    "Here\n",
    "```\n",
    "N > (2E-3)(1)/(0.25E-6) = 8000\n",
    "```\n",
    "Note `Np ~ 16 > 5`, which is one of the checks"
   ]
  },
  {
   "cell_type": "markdown",
   "metadata": {
    "heading_collapsed": true
   },
   "source": [
    "## Full house (poker question)"
   ]
  },
  {
   "cell_type": "markdown",
   "metadata": {
    "hidden": true
   },
   "source": [
    "- Probability of a full house (3 of a kind + 2 of a kind)\n",
    "- Give the odds  of a full house"
   ]
  },
  {
   "cell_type": "markdown",
   "metadata": {
    "heading_collapsed": true,
    "hidden": true
   },
   "source": [
    "### Answer (below the fold)"
   ]
  },
  {
   "cell_type": "markdown",
   "metadata": {
    "hidden": true
   },
   "source": [
    "Number of 3 of a kinds? 13 * (4 C 3) = 13 * 4\n",
    "Number of 2 of a kinds (not same as 3 of a kind)? 12 * (4 C 2) = 12 * 6\n",
    "Number of hands = (52 C 5)\n",
    "Prob full house = 13*4*12*6/(52 C 5) = 3744 / (52 C 5) = 0.0014 = 0.14%"
   ]
  },
  {
   "cell_type": "markdown",
   "metadata": {
    "heading_collapsed": true
   },
   "source": [
    "## Free throws/Ping-pong"
   ]
  },
  {
   "cell_type": "markdown",
   "metadata": {
    "hidden": true
   },
   "source": [
    "A man offered you 2 bets. Win if you make at least 3/5 free-throws, or win if you make at least 5/8 free-throws. Which one would you take?\n",
    "\n",
    "Alternative:\n",
    "* You play me in ping-pong. Given the choice, should you play to 3, 11, or 21 to maximize your chance of winning?\n",
    "* You play Brent in ping-pong. Given the choice, should you play to 3, 11, or 21 to maximize your chance of winning?"
   ]
  },
  {
   "cell_type": "markdown",
   "metadata": {
    "heading_collapsed": true
   },
   "source": [
    "## Amoeba"
   ]
  },
  {
   "cell_type": "markdown",
   "metadata": {
    "hidden": true
   },
   "source": [
    "Bobo the amoeba has a 25%, 25%, and 50% chance of producing 0, 1, or 2 offspring, respectively. Each of Bobo’s descendants also have the same probabilities. What is the probability that Bobo’s lineage dies out?"
   ]
  },
  {
   "cell_type": "markdown",
   "metadata": {
    "heading_collapsed": true,
    "hidden": true
   },
   "source": [
    "### Answer (below the fold)"
   ]
  },
  {
   "cell_type": "markdown",
   "metadata": {
    "hidden": true
   },
   "source": [
    "Let $p$ be the probability the lineage dies out. At the next stage:\n",
    "* There are 0 offspring with probability 1/4. Line dies out in this case with prob 1.\n",
    "* There are 1 offspring with probability 1/4. Line dies out with probability p.\n",
    "* There aer 2 offspring with probability 1/2. Line dies out with probability p^2\n",
    "\n",
    "So \n",
    "p = (1/4)(1) + (1/4)(p) + (1/2)(p^2) => p = 1/2"
   ]
  },
  {
   "cell_type": "markdown",
   "metadata": {},
   "source": [
    "## ROC AUC:"
   ]
  },
  {
   "cell_type": "markdown",
   "metadata": {},
   "source": [
    "## Stats terms"
   ]
  },
  {
   "cell_type": "markdown",
   "metadata": {},
   "source": [
    "* What is a p-value? What is Cohen's D? What are the advantages / disadvantages of each?"
   ]
  },
  {
   "cell_type": "markdown",
   "metadata": {},
   "source": [
    "### Answer (below the fold)"
   ]
  },
  {
   "cell_type": "markdown",
   "metadata": {},
   "source": [
    "#### p value\n",
    "\n",
    "The $p$ value is the probability that the result was at least as big as the one you found in the experiment, under the hypothesis that the null hypothesis is correct.\n",
    "\n",
    "i.e. If there is no effect, then you will \"detect\" one with probability $p$.\n",
    "\n",
    "If there is an effect, $p$ has the following good property:\n",
    "* As N -> infinity (with effect size fixed), then p -> 0.\n",
    "\n",
    "If there is not an effect, then there is the following odd effect\n",
    "* As effect_size -> 0, and N is held fixed, p -> uniform.\n",
    "\n",
    "#### Cohen's D\n",
    "\n",
    "Cohen's D is the difference between the sample means (or proportions) over the standard error. The formula is\n",
    "$$d = \\frac{\\bar{x}_1 - \\bar{x}_2}{\\text{std error}}, \\quad\\quad\\quad \\text{std error} = \\frac{\\sigma}{\\sqrt{N}}$$\n",
    "\n",
    "i.e. it is basically the $z$-score.\n",
    "\n",
    "The difference is that \n",
    "* If there is an effect, then $d \\rightarrow D$ as $N \\rightarrow \\infty$ (here $D$ is $d$ with the population means in the numerator, rather than the sample means)\n",
    "* If there is no effect, $d \\rightarrow 0$ as $N \\rightarrow \\infty$.\n",
    "\n",
    "Similar experiments should get similar values of $d$.\n",
    "\n",
    "\n",
    "\n",
    "![p vs d from \"Myths obout Data Science\"](p_vs_d.png)"
   ]
  },
  {
   "cell_type": "markdown",
   "metadata": {
    "heading_collapsed": true
   },
   "source": [
    "# Number theory"
   ]
  },
  {
   "cell_type": "markdown",
   "metadata": {
    "hidden": true
   },
   "source": [
    "## Fizz-buzzed\n",
    "I write a program should print out all the numbers from 1 to 300, but prints out Fizz instead if the number is divisible by 3, Buzz instead if the number is divisible by 5, and FizzBuzz if the number is divisible by 3 and 5. What is the total number of numbers that is either Fizzed, Buzzed, or FizzBuzzed?"
   ]
  },
  {
   "cell_type": "markdown",
   "metadata": {},
   "source": [
    "# A/B testing"
   ]
  },
  {
   "cell_type": "markdown",
   "metadata": {},
   "source": [
    "## Experiment design"
   ]
  },
  {
   "cell_type": "markdown",
   "metadata": {},
   "source": [
    "1. What is a type I error?\n",
    "2. What is a type II error?\n",
    "3. What is a power calculation, and when do you do one? What do you need to know in order to do a power calculation?\n",
    "4. How do you do a power calculation (formula or reference)"
   ]
  },
  {
   "cell_type": "markdown",
   "metadata": {},
   "source": [
    "### Answers (below the fold)"
   ]
  },
  {
   "cell_type": "markdown",
   "metadata": {},
   "source": [
    "A type I error is commonly called \"the error of rejecting the null hypothesis when it is true\", but this is sloppy (because the null hypothesis is almost never true). A precise way of saying this is to talk about the experiment design, rather than whether the outcome is in error.\n",
    "\n",
    "To do a A/B test / hypothesis test, we need \n",
    "- $\\alpha$, the type I error rate\n",
    "- $\\beta$, the type II error rate\n",
    "- a minimal size effect $d$ that you want to be able to detect\n",
    "All of these lead to a decision threshold, $z_c$ (usually it's a $z$-score, so $z_c$ is the critical $z$-score).\n",
    "\n",
    "The experiment is designed so that the probability that the conditional probablity of getting $|z|>|z_c|$, _given the null hypothesis_, is $alpha$. This is often abused to say \"the chance of rejecting the null hypothesis when it it true is $\\alpha$\", but this isn't actually correct (because the prior on the null hypothesis is basically 0).\n",
    "\n",
    "For the type II error rate, we ask \"what is the probability that the conditional probability of getting $|z| < |z__c|$ (i.e. we fail to reject the null hypothesis) given that the effect size is exactly $d$?\" Again, this is often incorrectly stated as \"the probability that we fail to reject the null hypothesis when the null hypothesis is false\".\n",
    "\n",
    "The power of a calculation is $(1-\\beta)$, which is the probability that if the effect size was the minimum one we were loking for, our experimental procedure would discover it with probability $1-\\beta$.\n",
    "\n",
    "Typical values in experiments are:\n",
    "* $\\alpha$ = 0.05\n",
    "* $\\beta$ = 0.2 (i.e. power = 20)\n",
    "\n",
    "You should do a power calculation before doing the experiment. It will tell you how big the experiment needs to be to have the appropriate power. For normal proportion experiments, the power calculation is \n",
    "\n",
    "$$N = "
   ]
  },
  {
   "cell_type": "markdown",
   "metadata": {
    "heading_collapsed": true
   },
   "source": [
    "## Fruit sales"
   ]
  },
  {
   "cell_type": "markdown",
   "metadata": {
    "hidden": true
   },
   "source": [
    "Let's suppose a fruit vendor wants to look at the price point for kiwifruit. The seller buys kiwifruit for 40 cents each. The vendor decides to offer 50 cents off to a small sample of customers that come by the stall.\n",
    "\n",
    "Here are the sales for the first couple of weeks for the control (most of the customers)\n",
    "\n",
    "| Week | Price | # customers offered | # purchased | purchase/customer | Amount made | Profit | Profit/customer |\n",
    "| --- | --- | --- | --- | --- | --- | --- | --- |\n",
    "| 1 | \\$1.50 | 6300 | 390 | 0.061905 | \\$585.00 | \\$429.00 | \\$0.068095 |\n",
    "| 2 | \\$1.50 | 8100 | 0 | 0.000000 | \\$0.00 | \\$0.00 | \\$0.000000 |\n",
    "| 3 | \\$1.50 | 4500 | 180 | 0.040000 | \\$270.00 | \\$198.00 | \\$0.044000 |\n",
    "| Total | --- | 18900 | 570 | 0.030159 | \\$855.00 | \\$627.00 | \\$0.033175 |\n",
    "\n",
    "For the treatment, we have\n",
    "\n",
    "| Week | Price | # customers offered | # purchased | purchase/customer | Amount made | Profit | Profit/customer |\n",
    "| --- | --- | --- | --- | --- | --- | --- | --- |\n",
    "| 1 | \\$1.00 | 700 | 80 | 0.114286 | \\$80.00 | \\$48.00 | \\$0.068571 |\n",
    "| 2 | \\$1.00 | 1200 | 0 | 0.000000 | \\$0.00 | \\$0.00 | \\$0.000000 |\n",
    "| 3 | \\$1.00 | 500 | 50 | 0.100000 | \\$50.00 | \\$30.00 | \\$0.060000 |\n",
    "| Total | -- | 2400 | 130 | 0.054167 | \\$130.00 | \\$78.00 | \\$0.032500 |\n",
    "\n",
    "Should the seller change to the discount to maximize profit?"
   ]
  },
  {
   "cell_type": "markdown",
   "metadata": {
    "heading_collapsed": true
   },
   "source": [
    "## Youtube example of Simpson's paradox"
   ]
  },
  {
   "cell_type": "markdown",
   "metadata": {
    "hidden": true
   },
   "source": [
    "[Source](https://blog.forrestthewoods.com/my-favorite-paradox-14fab39524da)\n",
    "\n",
    ">This is all from a 2012 post titled [Page Weight Matters](http://blog.chriszacharias.com/page-weight-matters). Chris Zacharias was a web developer on YouTube and took some time to optimize the video watch page. Over time it had grown to 1.2 megabytes making page load times unnecessarily slow.\n",
    ">\n",
    "With a few days work Chris shrunk the page size to a mere 98kb. He even decreased the request count and swapped out a bulky Flash player for a speedy HTML5 player. Everything was great so he pushed it live.\n",
    ">\n",
    "After a week of data collection the numbers came back and… the new code was slower! Page latency had increased. Despite being 10% as large it was somehow taking longer to load on average.\n",
    "\n",
    "This seems counter-intuitive.\n",
    "* Before rolling back to the old change, what sort of explanations might there be? How would you investigate?"
   ]
  },
  {
   "cell_type": "markdown",
   "metadata": {
    "hidden": true
   },
   "source": [
    "We have a binary classifier that classifies the following 10 points with scores:\n",
    "\n",
    "| Score | Class |\n",
    "| --- | --- |\n",
    "| 94 | POS|\n",
    "| 92 | POS |\n",
    "| 87 | NEG |\n",
    "| 83 | POS |\n",
    "| 75 | POS |\n",
    "| 60 | POS |\n",
    "| 40 | NEG |\n",
    "| 30 | NEG |\n",
    "| 20 | NEG |\n",
    "| 10 | POS |\n",
    "\n",
    "If you pick a random +ve example, and a random -ve example, what is the probability that the positive example has a lower score?"
   ]
  },
  {
   "cell_type": "markdown",
   "metadata": {
    "heading_collapsed": true,
    "hidden": true
   },
   "source": [
    "### Answer:"
   ]
  },
  {
   "cell_type": "markdown",
   "metadata": {
    "hidden": true
   },
   "source": [
    "```\n",
    "P(pos < neg) = P(pos in {94, 92}) * 0 + P(pos in {83,75,60})P(neg is {87}) + P(pos is 10)P(neg is any)\n",
    "             = (2/6)(0) + (3/6)(1/4) + (1/6)(1) \n",
    "             = 0 + 1/8 + 1/6\n",
    "             = 7/24 ~ 0.292\n",
    "```\n",
    "\n",
    "This also means P(pos > neg) = 1 - (7/24) = 17/24 ~ 0.7083.\n",
    "\n",
    "Now let's show by example that ROC gives us P(pos > neg)"
   ]
  },
  {
   "cell_type": "code",
   "execution_count": null,
   "metadata": {
    "ExecuteTime": {
     "end_time": "2018-09-17T06:14:48.734474Z",
     "start_time": "2018-09-17T06:14:48.720243Z"
    },
    "hidden": true
   },
   "outputs": [],
   "source": [
    "from sklearn.metrics import roc_auc_score\n",
    "\n",
    "y_score = [94, 92, 87, 83, 75, 60, 40, 30, 20, 10]\n",
    "y_label = [ 1,  1,  0,  1,  1,  1,  0,  0,  0,  1]\n",
    "\n",
    "roc_auc_score(y_label, y_score)"
   ]
  },
  {
   "cell_type": "markdown",
   "metadata": {},
   "source": [
    "# Coding"
   ]
  },
  {
   "cell_type": "markdown",
   "metadata": {
    "heading_collapsed": true
   },
   "source": [
    "## Towers of Hanoi"
   ]
  },
  {
   "cell_type": "markdown",
   "metadata": {
    "ExecuteTime": {
     "end_time": "2018-09-17T07:05:51.323116Z",
     "start_time": "2018-09-17T07:05:51.295057Z"
    },
    "hidden": true
   },
   "source": [
    "Instead of describing the game, here is a link to play it: https://www.mathsisfun.com/games/towerofhanoi.html\n",
    "        \n",
    "Write a function that tells us the minimum number of moves needed to solve the Towers of Hanoi game"
   ]
  },
  {
   "cell_type": "markdown",
   "metadata": {
    "heading_collapsed": true
   },
   "source": [
    "## Sudoku checker"
   ]
  },
  {
   "cell_type": "markdown",
   "metadata": {
    "hidden": true
   },
   "source": [
    "Let `board` be a list of lists that represents a 9x9 grid (i.e. `len(board) = 9` and `len(board[i]) = 9`). You may assume that each element of `board[i][j]` is between 1 and 9 (inclusive). \n",
    "\n",
    "A sudoku board is said to be solved if:\n",
    "* Each row contains the numbers 1 through 9 exactly once\n",
    "* Each column contains the numbers 1 through 9 exactly once\n",
    "* Each of the 3x3 grids shown below contain the numbers 1 though 9 exactly once (ask about this if you are not familiar with Sudoku)\n",
    "\n",
    "![sudoku board](./board.jpg)\n",
    "\n",
    "Write a function `is_solved(board)` that returns `True` if the board is solved, and `False` otherwise."
   ]
  },
  {
   "cell_type": "markdown",
   "metadata": {
    "heading_collapsed": true
   },
   "source": [
    "## Find lowest common ancestor (tree problem)"
   ]
  },
  {
   "cell_type": "markdown",
   "metadata": {
    "hidden": true
   },
   "source": [
    "Given a binary tree (not sorted), and two nodes `n1` and `n2`, find the lowest node in the tree that is a common ancestor to the tree. For example, given\n",
    "\n",
    "```\n",
    "             A\n",
    "            / \\\n",
    "           /   \\\n",
    "          B     C\n",
    "         / \\   / \\ \n",
    "        /   D E   \\\n",
    "       /   /       \\\n",
    "       F  G         H\n",
    "      / \\          / \\\n",
    "     I   J        K   L\n",
    "```\n",
    "and `n1 = I` and `n2 = G`, the lowest common ancestor is `B` (you can reach `I` and `J` by going down the tree from `B`). Note the root, `A`, is also a common ancestor, but not the _lowest_ common ancestor.\n",
    "\n",
    "\n",
    "**Note:** \n",
    "\n",
    "You cannot traverse up the tree. Define a reasonable `Node`"
   ]
  },
  {
   "cell_type": "markdown",
   "metadata": {
    "heading_collapsed": true,
    "hidden": true
   },
   "source": [
    "### Hint (below fold)"
   ]
  },
  {
   "cell_type": "code",
   "execution_count": null,
   "metadata": {
    "ExecuteTime": {
     "end_time": "2018-09-17T07:24:32.106416Z",
     "start_time": "2018-09-17T07:24:32.078049Z"
    },
    "hidden": true
   },
   "outputs": [],
   "source": [
    "# A definition of the Node class\n",
    "class Node:\n",
    "    def __init__(self, value):\n",
    "        self.value = value\n",
    "        self.left = None\n",
    "        self.right = None"
   ]
  },
  {
   "cell_type": "markdown",
   "metadata": {
    "heading_collapsed": true
   },
   "source": [
    "## Permutations of a string"
   ]
  },
  {
   "cell_type": "markdown",
   "metadata": {
    "hidden": true
   },
   "source": [
    "1. Write a function `permute(s)` that generates a list of all permutations of a string. e.g.\n",
    "  - `list(permute('cat'))` should a list with elements `'cat','cta','tac','tca', 'act', 'atc'` (in some order)\n",
    "  - `list(permute('aab'))` should be a list with elements `'aab', 'aba', 'aab', 'aba', 'baa', 'baaa'` (in somee order)\n",
    "2. Write a function `permute_no_dup(s)` that generates a list of all *distinct* permutations of a string e.g.\n",
    "  - `list(permute('cat'))` is the same as before\n",
    "  - `list(permute('aab'))` is `'aab', 'aba', 'baa'` in some order.\n",
    "  - `list(permute('jenn'))` is `'jenn', 'jnen', 'jnne', 'ejnn', 'enjn', 'ennj', 'njen', 'njne', 'nejn', 'nenj', 'nnje', 'nnej'"
   ]
  },
  {
   "cell_type": "markdown",
   "metadata": {
    "heading_collapsed": true
   },
   "source": [
    "## Gas station problem (this is hard -- take home?)\n",
    "You are planning a road trip that is `L` miles long.\n",
    "\n",
    "There are n service stations at locations `station[0] = 0, ...., station[n-1] = L`\n",
    "\n",
    "The different stations have different costs, where `cost[i]` is the amount of money it takes to put enough gas in your car to drive 1 mile.\n",
    "\n",
    "Your car can hold at most `capacity` gas, measured in miles. i.e. If the gas tank has a capacity of \"100 miles\", this means the car on a full tank of gas can travel 100 miles before it is empty.\n",
    "\n",
    "Write a function `get_min_cost(station, cost, capacity)` that returns the cheapest cost for making this road trip. If it isn't possible, return -1 instead.\n",
    "\n",
    "Put some examples here."
   ]
  },
  {
   "cell_type": "markdown",
   "metadata": {
    "heading_collapsed": true
   },
   "source": [
    "## Dijkstra"
   ]
  },
  {
   "cell_type": "markdown",
   "metadata": {
    "hidden": true
   },
   "source": [
    "This is a dynamic programming task for finding the shortest path between two nodes in a graph. \n",
    "\n",
    "**Not a standard data science interview question -- mostly because you have some graph experience it is worthwhile**\n",
    "\n",
    "Suppose we are given a graph G as a dictionary of edges, where the values are the lengths of the edges.\n",
    "e.g.\n",
    "```\n",
    "G = {(1,2): 3, (1,3):5, (2,3):1, (2,4):5, (3,4):2, (3,5):3, (4,5):8, (4,6):6, (4,7):4, (6,7):5,\n",
    "     (2,1): 3, (3,1):5, (3,2):1, (4,2):5, (4,3):2, (5,3):3, (5,4):8, (6,4):6, (7,4):4, (7,6):5}\n",
    "```\n",
    "to represent\n",
    "![graph](graph.png)\n",
    "\n",
    "Dijkstra's algorithm, `shortest_path(src, dest)`, and returns the shortest path. \n",
    "\n",
    "SETUP:\n",
    "1. Make `dist[node] = float('inf')` for all nodes, except `src`. `dist[src] = 0`.\n",
    "2. Make a data structure `H` containing all the tuples (`dist[node]`, `node`). Note if sorted, it sorts by distance first.\n",
    "\n",
    "ITERATIVE PART:\n",
    "While `len(H) > 0`\n",
    "1. Pop the smallest distance in `H` (i.e. distance and node). This is the node we update, `current`. This node becomes \"safe\" and cannot be updated.\n",
    "2. For each neighbor `v` of `current` update the shortest distance. It should be the minimum of\n",
    "  * `dist[v]` (the current distance found)\n",
    "  * `dist[current] + edge[(current, v)]` (i.e. use shortest distance to `current` plus the current edge)\n",
    "3. For all the distances, update the distances from `H`.\n",
    "\n",
    "Try doing this naively at first. \n",
    "\n",
    "Then make `H` a heap, because what you are doing is extracting minimum values, this should be quick.\n",
    "\n",
    "Use line profiler to help show where all the time is being spent. Here is a largish graph to work on in the directory called `jenns_graph.pkl` which is the equivalent of G. You should find the shortest path from `0` to `42` has length 8 (it goes through  `[0, 307, 880, 42]`)"
   ]
  },
  {
   "cell_type": "markdown",
   "metadata": {
    "hidden": true
   },
   "source": [
    "### Answer (below the fold)"
   ]
  },
  {
   "cell_type": "code",
   "execution_count": null,
   "metadata": {
    "ExecuteTime": {
     "end_time": "2018-09-18T19:32:44.322340Z",
     "start_time": "2018-09-18T19:32:44.310967Z"
    },
    "hidden": true
   },
   "outputs": [],
   "source": [
    "%load_ext line_profiler"
   ]
  },
  {
   "cell_type": "code",
   "execution_count": null,
   "metadata": {
    "hidden": true
   },
   "outputs": [],
   "source": []
  },
  {
   "cell_type": "code",
   "execution_count": null,
   "metadata": {
    "ExecuteTime": {
     "end_time": "2018-09-18T19:32:47.624894Z",
     "start_time": "2018-09-18T19:32:44.924873Z"
    },
    "hidden": true
   },
   "outputs": [],
   "source": [
    "# no heap, naive\n",
    "import pickle\n",
    "G = pickle.load(open('jenn_graph.pkl', 'rb'))\n",
    "\n",
    "def dijkstra_slow(G, src, dest):\n",
    "    dist = {v: (float('inf'), v) for v, _ in G.keys()}\n",
    "    dist[src] = (0, src)\n",
    "    \n",
    "    H = sorted(dist.values())\n",
    "    \n",
    "    while len(H) > 0:\n",
    "        if len(H) % 500 == 0:\n",
    "            print(len(H))\n",
    "        # get the smallest distance\n",
    "        _, current = H.pop(0)\n",
    "        edges_to_investigate = [edge for edge in G if edge[0] == current]\n",
    "\n",
    "        for edge in edges_to_investigate:\n",
    "            other = edge[1]\n",
    "            if dist[current][0] + G[edge] < dist[other][0]:\n",
    "                # found a shorter distance\n",
    "                # use old value to find index\n",
    "                index = H.index((dist[other][0], other))\n",
    "                \n",
    "                # get new distance\n",
    "                dist[other] = (dist[current][0] + G[edge], other)\n",
    "                \n",
    "                # update H\n",
    "                H[index] = (dist[other][0], other)\n",
    "        # now sort H so it is correct again\n",
    "        H = sorted(H)\n",
    "        \n",
    "    return dist[dest][0]\n",
    "\n",
    "dijkstra_slow(G,0,42)"
   ]
  },
  {
   "cell_type": "code",
   "execution_count": null,
   "metadata": {
    "ExecuteTime": {
     "end_time": "2018-09-18T19:32:55.366791Z",
     "start_time": "2018-09-18T19:32:48.179521Z"
    },
    "hidden": true
   },
   "outputs": [],
   "source": [
    "%lprun -f dijkstra_slow dijkstra_slow(G,0,42)"
   ]
  },
  {
   "cell_type": "markdown",
   "metadata": {
    "hidden": true
   },
   "source": [
    "Hmm... most of the time is spent looking up the edges to use. We will make a one time list of possible neighbors"
   ]
  },
  {
   "cell_type": "code",
   "execution_count": null,
   "metadata": {
    "ExecuteTime": {
     "end_time": "2018-09-18T19:35:48.246227Z",
     "start_time": "2018-09-18T19:35:48.182285Z"
    },
    "hidden": true
   },
   "outputs": [],
   "source": [
    "def dijkstra_medium(G, src, dest):\n",
    "    dist = {v: (float('inf'), v) for v, _ in G.keys()}\n",
    "    dist[src] = (0, src)\n",
    "    \n",
    "    H = sorted(dist.values())\n",
    "    \n",
    "    # Make an edge list\n",
    "    edge_list = {}\n",
    "    for start, end in G.keys():\n",
    "        edge_list[start] = edge_list.get(start, []) + [end]\n",
    "    \n",
    "    while len(H) > 0:\n",
    "        if len(H) % 500 == 0:\n",
    "            print(len(H))\n",
    "        # get the smallest distance\n",
    "        _, current = H.pop(0)\n",
    "        edges_to_investigate = [(current, end) for end in edge_list[current]]\n",
    "\n",
    "        for edge in edges_to_investigate:\n",
    "            other = edge[1]\n",
    "            if dist[current][0] + G[edge] < dist[other][0]:\n",
    "                # found a shorter distance\n",
    "                # use old value to find index\n",
    "                index = H.index((dist[other][0], other))\n",
    "                \n",
    "                # get new distance\n",
    "                dist[other] = (dist[current][0] + G[edge], other)\n",
    "                \n",
    "                # update H\n",
    "                H[index] = (dist[other][0], other)\n",
    "        # now sort H so it is correct again\n",
    "        H = sorted(H)\n",
    "        \n",
    "    return dist[dest][0]"
   ]
  },
  {
   "cell_type": "code",
   "execution_count": null,
   "metadata": {
    "ExecuteTime": {
     "end_time": "2018-09-18T19:36:01.191705Z",
     "start_time": "2018-09-18T19:36:01.037852Z"
    },
    "hidden": true
   },
   "outputs": [],
   "source": [
    "dijkstra_medium(G,0,42)"
   ]
  },
  {
   "cell_type": "code",
   "execution_count": null,
   "metadata": {
    "ExecuteTime": {
     "end_time": "2018-09-18T19:36:29.290184Z",
     "start_time": "2018-09-18T19:36:28.822323Z"
    },
    "hidden": true
   },
   "outputs": [],
   "source": [
    "%lprun -f dijkstra_medium dijkstra_medium(G,0,42)"
   ]
  },
  {
   "cell_type": "markdown",
   "metadata": {
    "hidden": true
   },
   "source": [
    "Ok, this runs at a decent speed. There is a much larger graph, `jenn_graph_large.pkl` that has 5000 nodes. It might struggle there. The shortest path in this variation is 6.\n",
    "\n",
    "Let's show the heap version and compare"
   ]
  },
  {
   "cell_type": "code",
   "execution_count": null,
   "metadata": {
    "ExecuteTime": {
     "end_time": "2018-09-18T19:55:09.238057Z",
     "start_time": "2018-09-18T19:55:07.830271Z"
    },
    "hidden": true
   },
   "outputs": [],
   "source": [
    "import heapq\n",
    "\n",
    "G = pickle.load(open('jenn_graph_large.pkl', 'rb'))"
   ]
  },
  {
   "cell_type": "code",
   "execution_count": null,
   "metadata": {
    "ExecuteTime": {
     "end_time": "2018-09-18T19:58:05.237060Z",
     "start_time": "2018-09-18T19:58:05.191600Z"
    },
    "hidden": true
   },
   "outputs": [],
   "source": [
    "def dijkstra_fast(G, src, dest):\n",
    "    dist = {v: (float('inf'), v) for v, _ in G.keys()}\n",
    "    dist[src] = (0, src)\n",
    "    \n",
    "    H = list(dist.values()) # make this a heap\n",
    "    heapq.heapify(H)\n",
    "    \n",
    "    # Make an edge list\n",
    "    edge_list = {}\n",
    "    for start, end in G.keys():\n",
    "        edge_list[start] = edge_list.get(start, []) + [end]\n",
    "    \n",
    "    while len(H) > 0:\n",
    "        if len(H) % 500 == 0:\n",
    "            print(len(H))\n",
    "        # get the smallest distance (heappop gets the min value without sort)\n",
    "        _, current = heapq.heappop(H)\n",
    "        edges_to_investigate = [(current, end) for end in edge_list[current]]\n",
    "        for edge in edges_to_investigate:\n",
    "            other = edge[1]\n",
    "            if dist[current][0] + G[edge] < dist[other][0]:\n",
    "                # found a shorter distance\n",
    "                # use old value to find index\n",
    "                index = H.index((dist[other][0], other))\n",
    "                \n",
    "                # get new distance\n",
    "                dist[other] = (dist[current][0] + G[edge], other)\n",
    "                \n",
    "                # update H\n",
    "                H[index] = (dist[other][0], other)\n",
    "        # now sort H so it is correct again\n",
    "        heapq.heapify(H)\n",
    "        \n",
    "    return dist[dest][0]"
   ]
  },
  {
   "cell_type": "code",
   "execution_count": null,
   "metadata": {
    "ExecuteTime": {
     "start_time": "2018-09-18T19:58:05.603Z"
    },
    "hidden": true
   },
   "outputs": [],
   "source": [
    "dijkstra_fast(G,0,42)"
   ]
  },
  {
   "cell_type": "code",
   "execution_count": null,
   "metadata": {
    "ExecuteTime": {
     "end_time": "2018-09-18T19:55:52.174140Z",
     "start_time": "2018-09-18T19:55:36.959735Z"
    },
    "hidden": true
   },
   "outputs": [],
   "source": [
    "dijkstra_medium(G,0,42)"
   ]
  },
  {
   "cell_type": "markdown",
   "metadata": {
    "ExecuteTime": {
     "end_time": "2018-09-18T19:53:36.431451Z",
     "start_time": "2018-09-18T19:53:23.340205Z"
    },
    "hidden": true
   },
   "source": [
    "They are about the same. Using lprun we see most of the time is spent (14%) is spent finding the ined"
   ]
  },
  {
   "cell_type": "code",
   "execution_count": null,
   "metadata": {
    "hidden": true
   },
   "outputs": [],
   "source": []
  },
  {
   "cell_type": "markdown",
   "metadata": {},
   "source": [
    "## Knight's path "
   ]
  },
  {
   "cell_type": "markdown",
   "metadata": {},
   "source": [
    "Given a 8x8 chess board, and a starting and ending location, find the shortest number of knight's moves that take you from the starting to ending location. The knight can never leave the chess board."
   ]
  },
  {
   "cell_type": "markdown",
   "metadata": {
    "heading_collapsed": true
   },
   "source": [
    "### Hint below the fold"
   ]
  },
  {
   "cell_type": "markdown",
   "metadata": {
    "hidden": true
   },
   "source": [
    "This is secretly a BFS problem"
   ]
  },
  {
   "cell_type": "markdown",
   "metadata": {},
   "source": [
    "## Is Bipartite?"
   ]
  },
  {
   "cell_type": "markdown",
   "metadata": {},
   "source": [
    "A graph $G$ is called bipartite if it is possible to divide the nodes into two sets, which we will call `left` and `right`, such that all edges are between nodes in `left` and nodes in `right` (i.e. no edges between nodes in `left`, and no edges between nodes in `right`). \n",
    "\n",
    "Often these graphs come up when the nodes are different types (e.g. students taking classes are reprsented between a `student` node and a `class` node; if this were our graph we would never have an edge between two classes, or between two students).\n",
    "\n",
    "Representing a graph by a set of edges `G = {(n1,n2), (n1, n3), .....}`, write a function `is_bipartite(G)` that returns `True` if the graph is bipartite."
   ]
  },
  {
   "cell_type": "markdown",
   "metadata": {
    "heading_collapsed": true
   },
   "source": [
    "### Hint (below the fold)"
   ]
  },
  {
   "cell_type": "markdown",
   "metadata": {
    "hidden": true
   },
   "source": [
    "* Start by assigning a node to `left`, then assign all its neighbors to `right`.\n",
    "* This is the same as a 2-coloring of the graph. Graph coloring problems are also interesting, but probably wouldn't get asked on a data science interview."
   ]
  },
  {
   "cell_type": "markdown",
   "metadata": {
    "heading_collapsed": true
   },
   "source": [
    "## DFS"
   ]
  },
  {
   "cell_type": "markdown",
   "metadata": {
    "hidden": true
   },
   "source": [
    "Write a function to do DFS on a binary search tree. Do an iterative and recursive version."
   ]
  },
  {
   "cell_type": "markdown",
   "metadata": {
    "heading_collapsed": true
   },
   "source": [
    "##  Write Tf-IDF"
   ]
  },
  {
   "cell_type": "markdown",
   "metadata": {
    "hidden": true
   },
   "source": [
    "Given a document-term matrix `Corpus`, write a function that calculates the tfidf score for term `t` in each document (i.e. returns a `num_doc x 1` vector).\n",
    "```\n",
    "Tf_idf(doc, term) = (# times term occurs in document) x log( (1+N_d) / (1+N_d_containing_term) )\n",
    "```\n",
    "[Note that Tf_idf is defined slightly differently in sklearn.]"
   ]
  },
  {
   "cell_type": "markdown",
   "metadata": {},
   "source": [
    "## Check for cycle in a graph"
   ]
  },
  {
   "cell_type": "markdown",
   "metadata": {
    "heading_collapsed": true
   },
   "source": [
    "## Count islands in a grid\n",
    "Islands of 0s and 1s."
   ]
  },
  {
   "cell_type": "markdown",
   "metadata": {
    "heading_collapsed": true
   },
   "source": [
    "## Other (not a question, just a suggestion of something to look at)"
   ]
  },
  {
   "cell_type": "markdown",
   "metadata": {
    "hidden": true
   },
   "source": [
    "Look at the dynamic programming needed to calculate the Levingstein distance (edit distance) between two strings. This is a pretty cool algorithm, and may come up as a talking point. This is a [cool set of slides on it](https://people.cs.umass.edu/~mccallum/courses/cl2006/lect4-stredit.pdf)"
   ]
  },
  {
   "cell_type": "markdown",
   "metadata": {
    "heading_collapsed": true
   },
   "source": [
    "# Matching problem (code + math)"
   ]
  },
  {
   "cell_type": "markdown",
   "metadata": {
    "hidden": true
   },
   "source": [
    "This is not part of a typical data science interview / questionaire. Since you are interested in dating apps, you are more likely to see questions related to matchmaking. Matches can be recommending matches between partners, or candidates and companies.\n",
    "\n",
    "MIT has some [good notes](https://ocw.mit.edu/courses/electrical-engineering-and-computer-science/6-042j-mathematics-for-computer-science-fall-2010/readings/MIT6_042JF10_notes.pdf) on matching problems (\\S 5.2 at time of writing). This section will describe the \"mating ritual\" matching algorithm, which is the one used by hospitals to place residents."
   ]
  },
  {
   "cell_type": "markdown",
   "metadata": {
    "heading_collapsed": true,
    "hidden": true
   },
   "source": [
    "### The mating ritual (Gale-Shapely) algorithm\n",
    "\n",
    "**Setup:** We have two groups, which we will refer to as Men and Women, as with the notes from MIT. These groups could be hospitals and residents, as well.\n",
    "\n",
    "Each person has a ranked list of people in the other set (i.e. the men rank the women, the women rank the men). There are the same number of women as men. The algorithm has several rounds. In each round, the following happens:\n",
    "1. Each \"man\" goes to the \"woman\" at the top of his list (i.e. not crossed off) and proposes.\n",
    "2. Each \"woman\" selects her top ranking man proposing that round, and tells him to come back next round. She tells all \"men\" who were not top ranked to remove her from their list (and they do).\n",
    "\n",
    "Once every woman only has one man proposing, everyone is married off.\n",
    "\n",
    "Implement this algorithm: `matching(proposer_array, proposee_array)` that returns a list of paired tuples. Here the `proposer_array[i]` is the order of preference of proposer `i` (and similar for proposee).\n",
    "\n",
    "#### Commentary on the algorithm\n",
    "\n",
    "The MIT book is pretty good. Here is one quote from it:\n",
    ">Who is favored by the Mating Ritual, the men or the women? The women seem\n",
    "to have all the power: they stand on their balconies choosing the finest among\n",
    "their suitors and spurning the rest.....\n",
    ">\n",
    ">But it’s not! The fact is that from the beginning, the men are serenading their\n",
    "first choice woman, and the desirability of the woman being serenaded decreases\n",
    "only enough to ensure overall stability. The Mating Ritual actually does as well as\n",
    "possible for all the men and does the worst possible job for the women.\n",
    "\n",
    "It is also worth noting the definition of \"stable marriages\" in this problem, and the proofs that (a) everyone is matched up and (b) all matchings are stable."
   ]
  },
  {
   "cell_type": "markdown",
   "metadata": {
    "heading_collapsed": true
   },
   "source": [
    "# SQL"
   ]
  },
  {
   "cell_type": "markdown",
   "metadata": {
    "heading_collapsed": true,
    "hidden": true
   },
   "source": [
    "## What does ACID mean for Databases? Is it applied to SQL or NoSQL (or both)?\n",
    "Acid: Atomic, Consistent, Isolation (i.e.), Durable. For SQL."
   ]
  },
  {
   "cell_type": "markdown",
   "metadata": {
    "heading_collapsed": true,
    "hidden": true
   },
   "source": [
    "## What is a primary key? What is a foreign key?"
   ]
  },
  {
   "cell_type": "markdown",
   "metadata": {
    "heading_collapsed": true,
    "hidden": true
   },
   "source": [
    "## Play times"
   ]
  },
  {
   "cell_type": "markdown",
   "metadata": {
    "hidden": true
   },
   "source": [
    "A music streaming app has a table `plays` which contains the `customer_id`, the `song_id` and the `when_played` played. The `song_id` and `customer_id` are both foreign keys. Whenever a customer plays a song, it is recorded in this table\n",
    "\n",
    "| customer_id | song_id | when_played |\n",
    "| --- | --- | --- |\n",
    "| 3523 | 583875 | 2018-09-23 13:00:00 |\n",
    "| 3523 | 142445 | 2018-09-23 12:54:23 |\n",
    "| 3523 | 583875 | 2018-09-22 23:45:12 |\n",
    "| ... | ... | ... |\n",
    "\n",
    "1. Write a query that returns the song each customer has listened to the most often in the month of september 2018\n",
    "2. Write a query that returns the total number of plays each customer has had in the month of september\n",
    "3. Write a query that returns how long it has been since each customer has listened to a song (Hint: In PostgreSQL, you can use NOW() to get the current timestamp)\n",
    "4. Write a query that returns how long it has been between the last song played, and second to last song played for each customer."
   ]
  },
  {
   "cell_type": "markdown",
   "metadata": {
    "heading_collapsed": true,
    "hidden": true
   },
   "source": [
    "## Dating app SQL"
   ]
  },
  {
   "cell_type": "markdown",
   "metadata": {
    "hidden": true
   },
   "source": [
    "Suppose we have the tables `customer`, `hobbies`, and `connections`. Here `connections` are lists of people that accepted matches in the past. The tables are\n",
    "\n",
    "```sql\n",
    "CREATE TABLE customer(customer_id integer not null primary key, name TEXT, age INT, gender TEXT);\n",
    "\n",
    "CREATE TABLE hobbies(hobby_name TEXT, customer_id integer references customer(customer_id));\n",
    "\n",
    "CREATE TABLE connections(connection_id integer not null primary key,\n",
    "                         customer1 integer references customer(customer_id),\n",
    "                         customer2 integer references customer(customer_id));\n",
    "```\n",
    "\n",
    "1. We are interested in looking at how hobbies connections have had in the past. Make a view `connections_hobbies` that lists the `connection_id`, `customer1`, `customer2` and the number of hobbies the two customers had in common.\n",
    "2. Find the 75th percentile of the number of hobbies customers have had in common.\n",
    "3. Select customer pairs with more than the 6 hobbies in common (regardless of whether or not those customers appear in the `connections` table)"
   ]
  },
  {
   "cell_type": "markdown",
   "metadata": {
    "heading_collapsed": true,
    "hidden": true
   },
   "source": [
    "## Northwind database (orders, products, customers)"
   ]
  },
  {
   "cell_type": "markdown",
   "metadata": {
    "hidden": true
   },
   "source": [
    "A company Northwind maintains four tables to track orders:\n",
    "- A table `customer`, where each row is someone registered on a site\n",
    "- A table `product`, where each row is a proof products they sell\n",
    "- A table `customerOrder`, which contains `customer_id` and `order_id`s for that customer's order. The `order_id` is unique.\n",
    "- A table of `productOrder`, which has a row for every product in every order (an order can contain multiple items).\n",
    "\n",
    "Here are some sample entries:\n",
    "\n",
    "**Customer**\n",
    "\n",
    "| customer_id | name | phone |\n",
    "| --- | --- | --- |\n",
    "| 1 | Sally | 555-350-1234 |\n",
    "| 2 | Mae | 555-123-3215 |\n",
    "| 3 | Bob | 555-555-5555 |\n",
    "\n",
    "**Product**\n",
    "\n",
    " | product_id | product_name | weight_lbs | price |\n",
    " | --- | --- | --- |\n",
    " | 45 | Chinese Gooseberries (6 pk) | 2 | 3.0 |\n",
    " | 12 | Gummi bears | 2 | 1.25 |\n",
    " | 42 | The Hitchhiker's guide to the galaxy | 3 | 18.00|\n",
    "\n",
    "**customerOrder**\n",
    "\n",
    " | order_id | customer_id | street_address | city | state |\n",
    " | --- | --- | --- | --- | --- |\n",
    " | 145 | 1 | 123 Main Street | San Francisco | CA |\n",
    " | 155 | 2 | 222 Elm Street | Portland | ME |\n",
    " | 123 | 2 | 222 Elm Street | Portland | ME |\n",
    "\n",
    " **ProductOrder**\n",
    " \n",
    " | order_id | product_id | quantity |\n",
    " | --- | --- | --- |\n",
    " | 145 |  45 | 3 |\n",
    " | 145 | 42 | 1 |\n",
    " | 155 | 42 | 1 |\n",
    " | 155 | 12 | 18 |\n",
    "\n",
    " i.e. order 145 was to Sally for 3 Chinese gooseberries and 1 copy of THHGTTG.\n",
    "\n",
    "1. Write a query to find all customers with no orders.\n",
    "2. Write a query to list all orders by decreasing total amount spent\n",
    "3. Write a query to list all customers by decreasing total amount spent over all orders."
   ]
  },
  {
   "cell_type": "markdown",
   "metadata": {
    "heading_collapsed": true,
    "hidden": true
   },
   "source": [
    "## Calculate GPA"
   ]
  },
  {
   "cell_type": "markdown",
   "metadata": {
    "hidden": true
   },
   "source": [
    "Suppose we have a table `student`, and a table `enrollment`. The `student` table takes the form\n",
    "\n",
    "| student_id | student_name |\n",
    "| --- | --- |\n",
    "| 1 | Andy |\n",
    "| 2 | Beatrice |\n",
    "| 3 | Sidney |\n",
    "| ... | ... |\n",
    "\n",
    "while the `enrollment` table takes the form\n",
    "\n",
    "| student_id | course_id | credits | grade |\n",
    "| --- | --- | --- | --- |\n",
    "| 1 | Physics | 5.0 | 2.0 |\n",
    "| 1 | Calculus | 4.0 | 2.5 |\n",
    "| 1 | English | 5.0 | 4.0 |\n",
    "| 2 | Calculus | 4.0 | 4.0 |\n",
    "| ... | ... | ... | ... |\n",
    "\n",
    "Write a SQL query that lists the name and (weighted) GPA for each student with a (weighted) GPA under 2.5"
   ]
  },
  {
   "cell_type": "code",
   "execution_count": null,
   "metadata": {
    "hidden": true
   },
   "outputs": [],
   "source": []
  }
 ],
 "metadata": {
  "kernelspec": {
   "display_name": "Environment (conda_anaconda3)",
   "language": "python",
   "name": "conda_anaconda3"
  },
  "language_info": {
   "codemirror_mode": {
    "name": "ipython",
    "version": 3
   },
   "file_extension": ".py",
   "mimetype": "text/x-python",
   "name": "python",
   "nbconvert_exporter": "python",
   "pygments_lexer": "ipython3",
   "version": "3.6.5"
  },
  "varInspector": {
   "cols": {
    "lenName": 16,
    "lenType": 16,
    "lenVar": 40
   },
   "kernels_config": {
    "python": {
     "delete_cmd_postfix": "",
     "delete_cmd_prefix": "del ",
     "library": "var_list.py",
     "varRefreshCmd": "print(var_dic_list())"
    },
    "r": {
     "delete_cmd_postfix": ") ",
     "delete_cmd_prefix": "rm(",
     "library": "var_list.r",
     "varRefreshCmd": "cat(var_dic_list()) "
    }
   },
   "types_to_exclude": [
    "module",
    "function",
    "builtin_function_or_method",
    "instance",
    "_Feature"
   ],
   "window_display": false
  }
 },
 "nbformat": 4,
 "nbformat_minor": 2
}
