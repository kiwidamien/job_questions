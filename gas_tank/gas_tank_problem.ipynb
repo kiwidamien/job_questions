{
 "cells": [
  {
   "cell_type": "code",
   "execution_count": 1,
   "metadata": {
    "ExecuteTime": {
     "end_time": "2019-05-31T03:06:07.902788Z",
     "start_time": "2019-05-31T03:06:07.898664Z"
    }
   },
   "outputs": [],
   "source": [
    "prices = [10, 10, 20, 12]\n",
    "roads = [9, 1, 7]\n",
    "capacity = 10\n",
    "inf = float('inf')"
   ]
  },
  {
   "cell_type": "markdown",
   "metadata": {},
   "source": [
    "Suppose we leave \n",
    "* station `i` with an amount of gas `g[i]`.\n",
    "* station `i-1` with an amount of gas `g[i-1]`.\n",
    "The best cost of ending at station `i` with an amount of gas `g[i]` is denoted `c[i, g[i]]`\n",
    "\n",
    "We use `d[i-1, i]` to get from `i-1` to `i`. If we leave station `i-1` with gas `g[i-1]`, and fill back up to `g[i]` at station `i`, then the amount of gas we bought at station `i` is\n",
    "```\n",
    "amount of gas purchased at i = (amount end) + (amount used) - (amount start) = g[i] + d[i-1, i] - g[i-1]\n",
    "```\n",
    "There are a couple of non-trivial restrictions:\n",
    "* The amount of gas purchased is non-negative: $g[i-1] \\leq g[i] + d[i-1, i]$\n",
    "* The amount of gas when leaving the previous station is no more than a full tank: $g[i-1] \\leq C$\n",
    "\n",
    "Call $M = min(g[i]+d[i-1,i], C)$\n",
    "\n",
    "\n",
    "The price for this leg of the journey is\n",
    "```\n",
    "cost of leg = (g[i] + d[i-1, i] - g[i-1])p[i],    d[i-1, i] <= g[i-1] <= M\n",
    "```\n",
    "Then we have\n",
    "\n",
    "$$\n",
    "c[i, g[i]] = \\min_{g[i-1] \\in [d,M]} ( c_{i-1, g_{i-1}} + (g_i + d - g_{i-1})p_i ), \\quad\\quad d = d[i-1,i]\n",
    "$$\n",
    "\n",
    "Factoring out the choice:\n",
    "$$\n",
    "c[i, g[i]] = \\min_{g[i-1] \\in [d,M]} ( c_{i-1, g_{i-1}}  - g_{i-1}p_i ) + (g_i + d)p_i, \\quad\\quad d = d[i-1,i]\n",
    "$$\n"
   ]
  },
  {
   "cell_type": "code",
   "execution_count": 2,
   "metadata": {
    "ExecuteTime": {
     "end_time": "2019-05-31T03:06:07.922041Z",
     "start_time": "2019-05-31T03:06:07.904545Z"
    }
   },
   "outputs": [],
   "source": [
    "def cheapest_cost_matrix(prices, roads, capacity):\n",
    "    # fill the initial row \n",
    "    cost = [[prices[0]*gallons for gallons in range(capacity+1)]]\n",
    "    \n",
    "    for dest_index, distance in enumerate(roads):\n",
    "        previous = cost[-1]\n",
    "        p = prices[dest_index+1]\n",
    "        this_cost = []\n",
    "        for end_cap in range(capacity+1):\n",
    "            max_val = min(capacity, end_cap + distance)\n",
    "            optimal_cost = min([(previous[prev_gas] - p*prev_gas) for prev_gas in range(distance, max_val+1)])  \n",
    "            optimal_cost += (end_cap + distance)*p\n",
    "            this_cost.append(optimal_cost)\n",
    "        cost.append(this_cost)\n",
    "    return cost\n",
    "\n",
    "def cheapest_cost(prices, roads, capacity):\n",
    "    return cheapest_cost_matrix(prices, roads, capacity)[-1][0]"
   ]
  },
  {
   "cell_type": "code",
   "execution_count": 3,
   "metadata": {
    "ExecuteTime": {
     "end_time": "2019-05-31T03:06:07.932472Z",
     "start_time": "2019-05-31T03:06:07.924003Z"
    }
   },
   "outputs": [],
   "source": [
    "cheapest_cost(prices, roads, capacity)"
   ]
  },
  {
   "cell_type": "code",
   "execution_count": 4,
   "metadata": {
    "ExecuteTime": {
     "end_time": "2019-05-31T03:06:07.938913Z",
     "start_time": "2019-05-31T03:06:07.934210Z"
    }
   },
   "outputs": [
    {
     "data": {
      "text/plain": [
       "[[0, 10, 20, 30, 40, 50, 60, 70, 80, 90, 100],\n",
       " [90, 100, 110, 120, 130, 140, 150, 160, 170, 180, 190],\n",
       " [100, 110, 120, 130, 140, 150, 160, 170, 180, 190, 210],\n",
       " [170, 180, 190, 202, 214, 226, 238, 250, 262, 274, 286]]"
      ]
     },
     "execution_count": 4,
     "metadata": {},
     "output_type": "execute_result"
    }
   ],
   "source": [
    "cheapest_cost_matrix(prices, roads, capacity)"
   ]
  },
  {
   "cell_type": "markdown",
   "metadata": {},
   "source": [
    "## Backtracking?\n",
    "\n",
    "Can we reconstruct the purchases from the matrix?\n",
    "\n",
    "When backtracking, we can restrict our attention to only those states that had enough gas to reach the previous step."
   ]
  },
  {
   "cell_type": "code",
   "execution_count": 5,
   "metadata": {
    "ExecuteTime": {
     "end_time": "2019-05-31T03:06:07.963125Z",
     "start_time": "2019-05-31T03:06:07.941160Z"
    }
   },
   "outputs": [],
   "source": [
    "def purchase_plan(prices, roads, capacity):\n",
    "    matrix = cheapest_cost_matrix(prices, roads, capacity)\n",
    "    \n",
    "    # we have no gas at the end\n",
    "    row, col = -1, 0\n",
    "    \n",
    "    quantities = []\n",
    "    while abs(row) < len(matrix):\n",
    "        for new_col in range(roads[row], capacity + 1):\n",
    "            est_previous = matrix[row][col] - prices[row]*(col - new_col + roads[row])\n",
    "            if est_previous == matrix[row-1][new_col]:\n",
    "                break\n",
    "        row = row - 1\n",
    "        col = new_col\n",
    "        print(row, col, matrix[row][col])\n",
    "        quantities.append(col)\n",
    "        \n",
    "    return [{\n",
    "        'gallons_leaving': column,\n",
    "        'current_spend': matrix[index][column]\n",
    "    } for index, column in enumerate(quantities[::-1])]\n",
    "        "
   ]
  },
  {
   "cell_type": "code",
   "execution_count": 6,
   "metadata": {
    "ExecuteTime": {
     "end_time": "2019-05-31T03:06:07.974656Z",
     "start_time": "2019-05-31T03:06:07.965025Z"
    }
   },
   "outputs": [
    {
     "name": "stdout",
     "output_type": "stream",
     "text": [
      "-2 7 170\n",
      "-3 8 170\n",
      "-4 9 90\n"
     ]
    },
    {
     "data": {
      "text/plain": [
       "[{'current_spend': 90, 'gallons_leaving': 9},\n",
       " {'current_spend': 170, 'gallons_leaving': 8},\n",
       " {'current_spend': 170, 'gallons_leaving': 7}]"
      ]
     },
     "execution_count": 6,
     "metadata": {},
     "output_type": "execute_result"
    }
   ],
   "source": [
<<<<<<< HEAD
    "# moved the example data to this cell\n",
=======
    "# Move example data to same cell\n",
>>>>>>> a59665934d2d713257aee3bc7b6b48c904e6a648
    "prices = [10, 10, 20, 12]\n",
    "roads = [9, 1, 7]\n",
    "capacity = 10\n",
    "inf = float('inf')\n",
    "\n",
    "purchase_plan(prices, roads, capacity)"
   ]
  },
  {
   "cell_type": "code",
   "execution_count": null,
   "metadata": {},
   "outputs": [],
   "source": []
  }
 ],
 "metadata": {
  "kernelspec": {
   "display_name": "Python 3",
   "language": "python",
   "name": "python3"
  },
  "language_info": {
   "codemirror_mode": {
    "name": "ipython",
    "version": 3
   },
   "file_extension": ".py",
   "mimetype": "text/x-python",
   "name": "python",
   "nbconvert_exporter": "python",
   "pygments_lexer": "ipython3",
   "version": "3.6.5"
  },
  "varInspector": {
   "cols": {
    "lenName": 16,
    "lenType": 16,
    "lenVar": 40
   },
   "kernels_config": {
    "python": {
     "delete_cmd_postfix": "",
     "delete_cmd_prefix": "del ",
     "library": "var_list.py",
     "varRefreshCmd": "print(var_dic_list())"
    },
    "r": {
     "delete_cmd_postfix": ") ",
     "delete_cmd_prefix": "rm(",
     "library": "var_list.r",
     "varRefreshCmd": "cat(var_dic_list()) "
    }
   },
   "types_to_exclude": [
    "module",
    "function",
    "builtin_function_or_method",
    "instance",
    "_Feature"
   ],
   "window_display": false
  }
 },
 "nbformat": 4,
 "nbformat_minor": 2
}
